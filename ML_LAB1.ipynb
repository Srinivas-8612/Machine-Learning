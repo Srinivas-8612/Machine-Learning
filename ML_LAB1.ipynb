{
  "nbformat": 4,
  "nbformat_minor": 0,
  "metadata": {
    "colab": {
      "provenance": [],
      "authorship_tag": "ABX9TyNRZN4iEtiREoULxmA97/FF",
      "include_colab_link": true
    },
    "kernelspec": {
      "name": "python3",
      "display_name": "Python 3"
    },
    "language_info": {
      "name": "python"
    }
  },
  "cells": [
    {
      "cell_type": "markdown",
      "metadata": {
        "id": "view-in-github",
        "colab_type": "text"
      },
      "source": [
        "<a href=\"https://colab.research.google.com/github/Srinivas-8612/Machine-Learning/blob/main/ML_LAB1.ipynb\" target=\"_parent\"><img src=\"https://colab.research.google.com/assets/colab-badge.svg\" alt=\"Open In Colab\"/></a>"
      ]
    },
    {
      "cell_type": "code",
      "execution_count": 5,
      "metadata": {
        "colab": {
          "base_uri": "https://localhost:8080/"
        },
        "id": "sCZTyu-oVPpD",
        "outputId": "8f3717b9-63da-48ac-828e-24ac516b8904"
      },
      "outputs": [
        {
          "output_type": "stream",
          "name": "stderr",
          "text": [
            "/usr/local/lib/python3.12/dist-packages/sklearn/linear_model/_logistic.py:1247: FutureWarning: 'multi_class' was deprecated in version 1.5 and will be removed in 1.7. From then on, it will always use 'multinomial'. Leave it to its default value to avoid this warning.\n",
            "  warnings.warn(\n"
          ]
        },
        {
          "output_type": "stream",
          "name": "stdout",
          "text": [
            "Logistic Regression Accuracy: 0.89\n",
            "Decision Tree Accuracy: 0.81\n",
            "Linear SVM Accuracy: 0.885\n",
            "Polynomial SVM Accuracy: 0.955\n",
            "RBF SVM Accuracy: 0.97\n"
          ]
        }
      ],
      "source": [
        "from sklearn.model_selection import train_test_split\n",
        "from sklearn.preprocessing import StandardScaler\n",
        "from sklearn.datasets import make_classification\n",
        "from sklearn.linear_model import LogisticRegression\n",
        "from sklearn.tree import DecisionTreeClassifier\n",
        "from sklearn.svm import SVC\n",
        "\n",
        "# Dataset\n",
        "X, y = make_classification(n_samples=1000, n_features=20, n_informative=15,\n",
        "              n_redundant=5, n_classes=3, weights=[0.5, 0.3, 0.2],\n",
        "              class_sep=1.5, flip_y=0.01, random_state=42)\n",
        "X_train, X_test, y_train, y_test = train_test_split(X, y, test_size=0.2, random_state=0)\n",
        "\n",
        "# Scale features for models sensitive to scale\n",
        "scaler = StandardScaler()\n",
        "X_train_scaled = scaler.fit_transform(X_train)\n",
        "X_test_scaled = scaler.transform(X_test)\n",
        "\n",
        "# Logistic Regression\n",
        "lr = LogisticRegression(multi_class='multinomial', solver='lbfgs', max_iter=1000)\n",
        "lr.fit(X_train_scaled, y_train)\n",
        "print(\"Logistic Regression Accuracy:\", lr.score(X_test_scaled, y_test))\n",
        "\n",
        "# Decision Tree\n",
        "tree = DecisionTreeClassifier(max_depth=10, random_state=42)\n",
        "tree.fit(X_train, y_train)\n",
        "print(\"Decision Tree Accuracy:\", tree.score(X_test, y_test))\n",
        "\n",
        "# SVM with different kernels\n",
        "svc_linear = SVC(kernel='linear')\n",
        "svc_linear.fit(X_train_scaled, y_train)\n",
        "print(\"Linear SVM Accuracy:\", svc_linear.score(X_test_scaled, y_test))\n",
        "\n",
        "svc_poly = SVC(kernel='poly', degree=3)\n",
        "svc_poly.fit(X_train_scaled, y_train)\n",
        "print(\"Polynomial SVM Accuracy:\", svc_poly.score(X_test_scaled, y_test))\n",
        "\n",
        "svc_rbf = SVC(kernel='rbf')\n",
        "svc_rbf.fit(X_train_scaled, y_train)\n",
        "print(\"RBF SVM Accuracy:\", svc_rbf.score(X_test_scaled, y_test))"
      ]
    },
    {
      "cell_type": "code",
      "source": [
        "from sklearn.datasets import load_wine # Import the real-world dataset\n",
        "from sklearn.model_selection import train_test_split\n",
        "from sklearn.preprocessing import StandardScaler\n",
        "from sklearn.linear_model import LogisticRegression\n",
        "from sklearn.tree import DecisionTreeClassifier\n",
        "from sklearn.svm import SVC\n",
        "import numpy as np # Import numpy for better display\n",
        "\n",
        "# Load the real-world Wine Dataset (178 samples, 13 features, 3 classes)\n",
        "X_real, y_real = load_wine(return_X_y=True)\n",
        "\n",
        "# Split the data\n",
        "X_train, X_test, y_train, y_test = train_test_split(X_real, y_real, test_size=0.2, random_state=0)\n",
        "\n",
        "# Scale features for models sensitive to scale (Logistic Regression and SVM)\n",
        "scaler = StandardScaler()\n",
        "X_train_scaled = scaler.fit_transform(X_train)\n",
        "X_test_scaled = scaler.transform(X_test)\n",
        "\n",
        "results = {}\n",
        "\n",
        "# --- Logistic Regression ---\n",
        "lr = LogisticRegression(multi_class='multinomial', solver='lbfgs', max_iter=1000)\n",
        "lr.fit(X_train_scaled, y_train)\n",
        "results['Logistic Regression'] = lr.score(X_test_scaled, y_test)\n",
        "\n",
        "# --- Decision Tree ---\n",
        "# Note: Decision Tree does not require scaled data\n",
        "tree = DecisionTreeClassifier(max_depth=10, random_state=42)\n",
        "tree.fit(X_train, y_train)\n",
        "results['Decision Tree'] = tree.score(X_test, y_test)\n",
        "\n",
        "# --- SVM with different kernels (uses scaled data) ---\n",
        "# Linear SVM\n",
        "svc_linear = SVC(kernel='linear', random_state=42)\n",
        "svc_linear.fit(X_train_scaled, y_train)\n",
        "results['Linear SVM'] = svc_linear.score(X_test_scaled, y_test)\n",
        "\n",
        "# Polynomial SVM\n",
        "svc_poly = SVC(kernel='poly', degree=3, random_state=42)\n",
        "svc_poly.fit(X_train_scaled, y_train)\n",
        "results['Polynomial SVM'] = svc_poly.score(X_test_scaled, y_test)\n",
        "\n",
        "# RBF SVM\n",
        "svc_rbf = SVC(kernel='rbf', random_state=42)\n",
        "svc_rbf.fit(X_train_scaled, y_train)\n",
        "results['RBF SVM'] = svc_rbf.score(X_test_scaled, y_test)\n",
        "\n",
        "# Print all results\n",
        "print(\"Classification Results on Wine Dataset:\")\n",
        "for model, accuracy in results.items():\n",
        "    print(f\"{model} Accuracy: {accuracy:.4f}\")"
      ],
      "metadata": {
        "colab": {
          "base_uri": "https://localhost:8080/"
        },
        "id": "H1yO6Ag9Yspo",
        "outputId": "d1a1c9ec-5006-41bf-b764-d2476063c38b"
      },
      "execution_count": 7,
      "outputs": [
        {
          "output_type": "stream",
          "name": "stdout",
          "text": [
            "Classification Results on Wine Dataset:\n",
            "Logistic Regression Accuracy: 1.0000\n",
            "Decision Tree Accuracy: 0.9722\n",
            "Linear SVM Accuracy: 1.0000\n",
            "Polynomial SVM Accuracy: 0.9444\n",
            "RBF SVM Accuracy: 1.0000\n"
          ]
        },
        {
          "output_type": "stream",
          "name": "stderr",
          "text": [
            "/usr/local/lib/python3.12/dist-packages/sklearn/linear_model/_logistic.py:1247: FutureWarning: 'multi_class' was deprecated in version 1.5 and will be removed in 1.7. From then on, it will always use 'multinomial'. Leave it to its default value to avoid this warning.\n",
            "  warnings.warn(\n"
          ]
        }
      ]
    },
    {
      "cell_type": "code",
      "source": [
        "import numpy as np\n",
        "from sklearn.datasets import make_classification\n",
        "from sklearn.model_selection import train_test_split\n",
        "from sklearn.preprocessing import StandardScaler\n",
        "from sklearn.linear_model import LogisticRegression\n",
        "from sklearn.tree import DecisionTreeClassifier\n",
        "from sklearn.svm import SVC\n",
        "from sklearn.metrics import accuracy_score\n",
        "\n",
        "# 1. Dataset Generation (as per document specifications)\n",
        "X, y = make_classification(\n",
        "    n_samples=1000,\n",
        "    n_features=20,\n",
        "    n_informative=15,               # 15 features contribute to the classification\n",
        "    n_redundant=5,                  # 5 features are combinations of informative ones\n",
        "    n_classes=3,\n",
        "    weights=[0.5, 0.3, 0.2],        # Imbalanced classes\n",
        "    class_sep=1.5,\n",
        "    flip_y=0.01,\n",
        "    random_state=42\n",
        ")\n",
        "\n",
        "# 2. Data Splitting\n",
        "X_train, X_test, y_train, y_test = train_test_split(\n",
        "    X, y,\n",
        "    test_size=0.2,\n",
        "    random_state=0\n",
        ")\n",
        "\n",
        "# 3. Feature Scaling (essential for distance-based models like SVM and regularized models like LR)\n",
        "scaler = StandardScaler()\n",
        "X_train_scaled = scaler.fit_transform(X_train)\n",
        "X_test_scaled = scaler.transform(X_test)\n",
        "\n",
        "print(\"--- Classification Model Accuracies ---\")\n",
        "\n",
        "# --- Model 1: Logistic Regression (LR) ---\n",
        "# multi_class='multinomial' and solver='lbfgs' are used for multi-class problems.\n",
        "lr = LogisticRegression(\n",
        "    multi_class='multinomial',\n",
        "    solver='lbfgs',\n",
        "    max_iter=1000,\n",
        "    random_state=42 # Set for reproducibility\n",
        ")\n",
        "lr.fit(X_train_scaled, y_train)\n",
        "lr_accuracy = lr.score(X_test_scaled, y_test)\n",
        "print(f\"Logistic Regression Accuracy: {lr_accuracy:.4f}\")\n",
        "\n",
        "# --- Model 2: Decision Tree (DT) ---\n",
        "# DT is not sensitive to scaling, so we use the unscaled data.\n",
        "tree = DecisionTreeClassifier(\n",
        "    max_depth=10,\n",
        "    random_state=42\n",
        ")\n",
        "tree.fit(X_train, y_train)\n",
        "tree_accuracy = tree.score(X_test, y_test)\n",
        "print(f\"Decision Tree Accuracy: {tree_accuracy:.4f}\")\n",
        "\n",
        "# --- Model 3: Support Vector Machine (SVM) ---\n",
        "# All SVM models use the scaled data (X_train_scaled, X_test_scaled).\n",
        "\n",
        "# 3a. Linear SVM\n",
        "svc_linear = SVC(kernel='linear', random_state=42)\n",
        "svc_linear.fit(X_train_scaled, y_train)\n",
        "svc_linear_accuracy = svc_linear.score(X_test_scaled, y_test)\n",
        "print(f\"Linear SVM Accuracy:          {svc_linear_accuracy:.4f}\")\n",
        "\n",
        "# 3b. Polynomial Kernel SVM\n",
        "svc_poly = SVC(kernel='poly', degree=3, random_state=42)\n",
        "svc_poly.fit(X_train_scaled, y_train)\n",
        "svc_poly_accuracy = svc_poly.score(X_test_scaled, y_test)\n",
        "print(f\"Polynomial SVM Accuracy:      {svc_poly_accuracy:.4f}\")\n",
        "\n",
        "# 3c. RBF Kernel SVM\n",
        "svc_rbf = SVC(kernel='rbf', random_state=42)\n",
        "svc_rbf.fit(X_train_scaled, y_train)\n",
        "svc_rbf_accuracy = svc_rbf.score(X_test_scaled, y_test)\n",
        "print(f\"RBF SVM Accuracy:             {svc_rbf_accuracy:.4f}\")"
      ],
      "metadata": {
        "colab": {
          "base_uri": "https://localhost:8080/"
        },
        "id": "TDH7DPu9ZeWB",
        "outputId": "2f8b9a60-a3f9-4540-9277-f1d0fbe73025"
      },
      "execution_count": 8,
      "outputs": [
        {
          "output_type": "stream",
          "name": "stdout",
          "text": [
            "--- Classification Model Accuracies ---\n",
            "Logistic Regression Accuracy: 0.8900\n",
            "Decision Tree Accuracy: 0.8100\n",
            "Linear SVM Accuracy:          0.8850\n"
          ]
        },
        {
          "output_type": "stream",
          "name": "stderr",
          "text": [
            "/usr/local/lib/python3.12/dist-packages/sklearn/linear_model/_logistic.py:1247: FutureWarning: 'multi_class' was deprecated in version 1.5 and will be removed in 1.7. From then on, it will always use 'multinomial'. Leave it to its default value to avoid this warning.\n",
            "  warnings.warn(\n"
          ]
        },
        {
          "output_type": "stream",
          "name": "stdout",
          "text": [
            "Polynomial SVM Accuracy:      0.9550\n",
            "RBF SVM Accuracy:             0.9700\n"
          ]
        }
      ]
    },
    {
      "cell_type": "code",
      "source": [
        "import joblib"
      ],
      "metadata": {
        "id": "dVDqk4YDZlxJ"
      },
      "execution_count": 9,
      "outputs": []
    },
    {
      "cell_type": "code",
      "source": [
        "joblib.dump(lr, 'logistic_regression_model.joblib')\n",
        "joblib.dump(tree, 'decision_tree_model.joblib')\n",
        "joblib.dump(svc_rbf, 'rbf_svm_model.joblib')\n",
        "# You would typically save all four SVMs if required, or the best one."
      ],
      "metadata": {
        "colab": {
          "base_uri": "https://localhost:8080/"
        },
        "id": "MTKdfuhSZpn5",
        "outputId": "eacc985a-63b8-469b-db2c-06909550a426"
      },
      "execution_count": 10,
      "outputs": [
        {
          "output_type": "execute_result",
          "data": {
            "text/plain": [
              "['rbf_svm_model.joblib']"
            ]
          },
          "metadata": {},
          "execution_count": 10
        }
      ]
    },
    {
      "cell_type": "code",
      "source": [
        "from google.colab import drive\n",
        "drive.mount('/content/drive')"
      ],
      "metadata": {
        "colab": {
          "base_uri": "https://localhost:8080/"
        },
        "id": "e93VhuNWZsuS",
        "outputId": "c61d3980-bf93-48b5-864b-a215f94d6658"
      },
      "execution_count": 11,
      "outputs": [
        {
          "output_type": "stream",
          "name": "stdout",
          "text": [
            "Mounted at /content/drive\n"
          ]
        }
      ]
    }
  ]
}