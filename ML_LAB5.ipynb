{
  "nbformat": 4,
  "nbformat_minor": 0,
  "metadata": {
    "colab": {
      "provenance": [],
      "authorship_tag": "ABX9TyMXqYi+9oOGM1TK9GVGMYyd",
      "include_colab_link": true
    },
    "kernelspec": {
      "name": "python3",
      "display_name": "Python 3"
    },
    "language_info": {
      "name": "python"
    }
  },
  "cells": [
    {
      "cell_type": "markdown",
      "metadata": {
        "id": "view-in-github",
        "colab_type": "text"
      },
      "source": [
        "<a href=\"https://colab.research.google.com/github/Srinivas-8612/Machine-Learning/blob/main/ML_LAB5.ipynb\" target=\"_parent\"><img src=\"https://colab.research.google.com/assets/colab-badge.svg\" alt=\"Open In Colab\"/></a>"
      ]
    },
    {
      "cell_type": "code",
      "execution_count": 1,
      "metadata": {
        "colab": {
          "base_uri": "https://localhost:8080/"
        },
        "id": "6gCeCQTiuVxo",
        "outputId": "ab047d56-68bd-4ff6-e316-88793b75abe5"
      },
      "outputs": [
        {
          "output_type": "stream",
          "name": "stdout",
          "text": [
            "Linear Regression R² Score: 0.9442031815195597\n",
            "Polynomial Regression (deg=3) R² Score: 0.9406100492181844\n",
            "SVR (RBF) R² Score: 0.9374296718852451\n"
          ]
        }
      ],
      "source": [
        "from sklearn.datasets import make_regression\n",
        "from sklearn.linear_model import LinearRegression\n",
        "from sklearn.preprocessing import PolynomialFeatures, StandardScaler\n",
        "from sklearn.pipeline import make_pipeline\n",
        "from sklearn.svm import SVR\n",
        "from sklearn.model_selection import train_test_split\n",
        "from sklearn.metrics import r2_score\n",
        "\n",
        "# Dataset\n",
        "X, y = make_regression(n_samples=1000, n_features=5, n_informative=5, noise=15, random_state=42)\n",
        "X_train, X_test, y_train, y_test = train_test_split(X, y, test_size=0.2, random_state=0)\n",
        "\n",
        "# Linear Regression\n",
        "lr = LinearRegression()\n",
        "lr.fit(X_train, y_train)\n",
        "print(\"Linear Regression R² Score:\", lr.score(X_test, y_test))\n",
        "\n",
        "# Polynomial Regression (degree 3)\n",
        "poly_model = make_pipeline(PolynomialFeatures(degree=3), LinearRegression())\n",
        "poly_model.fit(X_train, y_train)\n",
        "print(\"Polynomial Regression (deg=3) R² Score:\", poly_model.score(X_test, y_test))\n",
        "\n",
        "# SVR with RBF Kernel\n",
        "scaler = StandardScaler()\n",
        "X_train_scaled = scaler.fit_transform(X_train)\n",
        "X_test_scaled = scaler.transform(X_test)\n",
        "\n",
        "svr = SVR(kernel='rbf', C=100, gamma=0.1)\n",
        "svr.fit(X_train_scaled, y_train)\n",
        "print(\"SVR (RBF) R² Score:\", svr.score(X_test_scaled, y_test))\n"
      ]
    },
    {
      "cell_type": "code",
      "source": [
        "import pandas as pd\n",
        "from sklearn.linear_model import LinearRegression\n",
        "from sklearn.preprocessing import PolynomialFeatures, StandardScaler\n",
        "from sklearn.pipeline import make_pipeline\n",
        "from sklearn.svm import SVR\n",
        "from sklearn.model_selection import train_test_split\n",
        "from sklearn.metrics import r2_score\n",
        "\n",
        "data = pd.read_csv('GC_in_1_hour_new.csv')\n",
        "\n",
        "\n",
        "# Define Features (X) and Target (y)\n",
        "# Predicting 'close' price using 'open', 'high', and 'low' prices\n",
        "features = ['open', 'high', 'low']\n",
        "target = 'close'\n",
        "\n",
        "X = data[features]\n",
        "y = data[target]\n",
        "\n",
        "# Split the data into training and testing sets\n",
        "X_train, X_test, y_train, y_test = train_test_split(X, y, test_size=0.2, random_state=42)\n",
        "\n",
        "# --- Model Definitions and Training ---\n",
        "\n",
        "# 2. Linear Regression\n",
        "# We use a pipeline with StandardScaler for robust comparison with SVR\n",
        "lr_model = make_pipeline(StandardScaler(), LinearRegression())\n",
        "lr_model.fit(X_train, y_train)\n",
        "lr_score = lr_model.score(X_test, y_test)\n",
        "print(\"Linear Regression R² Score:\", lr_score)\n",
        "\n",
        "# 3. Polynomial Regression (degree 3)\n",
        "# Pipeline for scaling, transforming to polynomial features, and fitting Linear Regression\n",
        "poly_model = make_pipeline(StandardScaler(), PolynomialFeatures(degree=3), LinearRegression())\n",
        "poly_model.fit(X_train, y_train)\n",
        "poly_score = poly_model.score(X_test, y_test)\n",
        "print(\"Polynomial Regression (deg=3) R² Score:\", poly_score)\n",
        "\n",
        "# 4. SVR with RBF Kernel\n",
        "# Pipeline for scaling and fitting the SVR model\n",
        "# C and gamma are hyperparameters chosen for better performance\n",
        "svr_model = make_pipeline(StandardScaler(), SVR(kernel='rbf', C=100, gamma='scale'))\n",
        "svr_model.fit(X_train, y_train)\n",
        "svr_score = svr_model.score(X_test, y_test)\n",
        "print(\"SVR (RBF) R² Score:\", svr_score)"
      ],
      "metadata": {
        "colab": {
          "base_uri": "https://localhost:8080/"
        },
        "id": "R2xqdHCR39AA",
        "outputId": "225a8468-7e96-43c9-9b52-157c3e47611f"
      },
      "execution_count": 12,
      "outputs": [
        {
          "output_type": "stream",
          "name": "stdout",
          "text": [
            "Linear Regression R² Score: 0.9999758313539404\n",
            "Polynomial Regression (deg=3) R² Score: 0.9999764316647092\n",
            "SVR (RBF) R² Score: 0.9999612938356306\n"
          ]
        }
      ]
    },
    {
      "cell_type": "code",
      "source": [
        "from sklearn.datasets import make_regression\n",
        "from sklearn.linear_model import LinearRegression\n",
        "from sklearn.preprocessing import PolynomialFeatures, StandardScaler\n",
        "from sklearn.pipeline import make_pipeline\n",
        "from sklearn.svm import SVR\n",
        "from sklearn.model_selection import train_test_split\n",
        "from sklearn.metrics import r2_score\n",
        "import numpy as np\n",
        "\n",
        "# Dataset\n",
        "X, y = make_regression(n_samples=1000, n_features=5, n_informative=5, noise=15, random_state=42)\n",
        "X_train, X_test, y_train, y_test = train_test_split(X, y, test_size=0.2, random_state=0)\n",
        "\n",
        "# 1. Linear Regression (No Hyperparameters)\n",
        "lr = LinearRegression()\n",
        "lr.fit(X_train, y_train)\n",
        "lr_score = lr.score(X_test, y_test)\n",
        "print(\"--- Base Model Scores ---\")\n",
        "print(f\"Linear Regression R² Score: {lr_score:.4f}\")\n",
        "\n",
        "# 2. Polynomial Regression: Varying Degree\n",
        "print(\"\\n--- Polynomial Regression Tuning ---\")\n",
        "best_poly_score = -np.inf\n",
        "best_degree = 0\n",
        "degrees = [1, 2, 3, 4, 5]\n",
        "\n",
        "for degree in degrees:\n",
        "    # Use degree=1 to represent the base Linear Regression case\n",
        "    poly_model = make_pipeline(PolynomialFeatures(degree=degree), LinearRegression())\n",
        "    poly_model.fit(X_train, y_train)\n",
        "    score = poly_model.score(X_test, y_test)\n",
        "    print(f\"Polynomial (degree={degree}) R² Score: {score:.4f}\")\n",
        "\n",
        "    if score > best_poly_score:\n",
        "        best_poly_score = score\n",
        "        best_degree = degree\n",
        "\n",
        "print(f\"\\nBest Polynomial Score: {best_poly_score:.4f} (Degree: {best_degree})\")\n",
        "\n",
        "# 3. SVR with RBF Kernel: Varying C and Gamma\n",
        "print(\"\\n--- SVR (RBF) Tuning ---\")\n",
        "# Scaling is essential for SVR\n",
        "scaler = StandardScaler()\n",
        "X_train_scaled = scaler.fit_transform(X_train)\n",
        "X_test_scaled = scaler.transform(X_test)\n",
        "\n",
        "best_svr_score = -np.inf\n",
        "best_params = {}\n",
        "C_values = [10, 100]\n",
        "gamma_values = [0.01, 0.1, 1.0, 'scale']\n",
        "\n",
        "for C in C_values:\n",
        "    for gamma in gamma_values:\n",
        "        # Train and evaluate SVR model\n",
        "        svr = SVR(kernel='rbf', C=C, gamma=gamma)\n",
        "        svr.fit(X_train_scaled, y_train)\n",
        "        score = svr.score(X_test_scaled, y_test)\n",
        "        print(f\"SVR (C={C}, gamma={gamma}) R² Score: {score:.4f}\")\n",
        "\n",
        "        if score > best_svr_score:\n",
        "            best_svr_score = score\n",
        "            best_params = {'C': C, 'gamma': gamma}\n",
        "\n",
        "print(f\"\\nBest SVR Score: {best_svr_score:.4f} (Params: C={best_params['C']}, gamma={best_params['gamma']})\")"
      ],
      "metadata": {
        "colab": {
          "base_uri": "https://localhost:8080/"
        },
        "id": "sy9h3KES6eN3",
        "outputId": "0193f3ca-6a2a-4734-eb25-dc1b1b87081d"
      },
      "execution_count": 14,
      "outputs": [
        {
          "output_type": "stream",
          "name": "stdout",
          "text": [
            "--- Base Model Scores ---\n",
            "Linear Regression R² Score: 0.9442\n",
            "\n",
            "--- Polynomial Regression Tuning ---\n",
            "Polynomial (degree=1) R² Score: 0.9442\n",
            "Polynomial (degree=2) R² Score: 0.9429\n",
            "Polynomial (degree=3) R² Score: 0.9406\n",
            "Polynomial (degree=4) R² Score: 0.9234\n",
            "Polynomial (degree=5) R² Score: 0.7846\n",
            "\n",
            "Best Polynomial Score: 0.9442 (Degree: 1)\n",
            "\n",
            "--- SVR (RBF) Tuning ---\n",
            "SVR (C=10, gamma=0.01) R² Score: 0.9224\n",
            "SVR (C=10, gamma=0.1) R² Score: 0.8949\n",
            "SVR (C=10, gamma=1.0) R² Score: 0.5041\n",
            "SVR (C=10, gamma=scale) R² Score: 0.8603\n",
            "SVR (C=100, gamma=0.01) R² Score: 0.9417\n",
            "SVR (C=100, gamma=0.1) R² Score: 0.9374\n",
            "SVR (C=100, gamma=1.0) R² Score: 0.7407\n",
            "SVR (C=100, gamma=scale) R² Score: 0.9262\n",
            "\n",
            "Best SVR Score: 0.9417 (Params: C=100, gamma=0.01)\n"
          ]
        }
      ]
    }
  ]
}